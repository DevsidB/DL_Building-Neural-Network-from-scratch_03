{
 "cells": [
  {
   "cell_type": "markdown",
   "id": "dd18d806",
   "metadata": {},
   "source": [
    "Our Goal :\n",
    "    \n",
    "    custom_model = myNN()\n",
    "    custom_model.fit(x_train_scaled, y_train, epochs = 8000, loss_threshold = 0.4631)\n",
    "    custom_model.predict (X_test_scaled)\n",
    "    \n",
    "To do list:\n",
    "\n",
    "    1. Train_test splitting is to be done manually. Do it later ! - Done\n",
    "    2. Generic implementation is not done. External parameters are bypassed manually inside the fit() function. \n",
    "    Try to solve it! "
   ]
  },
  {
   "cell_type": "code",
   "execution_count": 1,
   "id": "1d878c82",
   "metadata": {},
   "outputs": [],
   "source": [
    "import numpy as np\n",
    "import tensorflow as tf\n",
    "from tensorflow import keras\n",
    "import pandas as pd\n",
    "import matplotlib.pyplot as plt\n",
    "%matplotlib inline"
   ]
  },
  {
   "cell_type": "code",
   "execution_count": 2,
   "id": "ca2c1183",
   "metadata": {},
   "outputs": [],
   "source": [
    "df = pd.read_csv(\"insurance_data.csv\")"
   ]
  },
  {
   "cell_type": "code",
   "execution_count": 3,
   "id": "514d9d73",
   "metadata": {},
   "outputs": [
    {
     "data": {
      "text/html": [
       "<div>\n",
       "<style scoped>\n",
       "    .dataframe tbody tr th:only-of-type {\n",
       "        vertical-align: middle;\n",
       "    }\n",
       "\n",
       "    .dataframe tbody tr th {\n",
       "        vertical-align: top;\n",
       "    }\n",
       "\n",
       "    .dataframe thead th {\n",
       "        text-align: right;\n",
       "    }\n",
       "</style>\n",
       "<table border=\"1\" class=\"dataframe\">\n",
       "  <thead>\n",
       "    <tr style=\"text-align: right;\">\n",
       "      <th></th>\n",
       "      <th>age</th>\n",
       "      <th>affordibility</th>\n",
       "      <th>bought_insurance</th>\n",
       "    </tr>\n",
       "  </thead>\n",
       "  <tbody>\n",
       "    <tr>\n",
       "      <th>0</th>\n",
       "      <td>22</td>\n",
       "      <td>1</td>\n",
       "      <td>0</td>\n",
       "    </tr>\n",
       "    <tr>\n",
       "      <th>1</th>\n",
       "      <td>25</td>\n",
       "      <td>0</td>\n",
       "      <td>0</td>\n",
       "    </tr>\n",
       "    <tr>\n",
       "      <th>2</th>\n",
       "      <td>47</td>\n",
       "      <td>1</td>\n",
       "      <td>1</td>\n",
       "    </tr>\n",
       "    <tr>\n",
       "      <th>3</th>\n",
       "      <td>52</td>\n",
       "      <td>0</td>\n",
       "      <td>0</td>\n",
       "    </tr>\n",
       "    <tr>\n",
       "      <th>4</th>\n",
       "      <td>46</td>\n",
       "      <td>1</td>\n",
       "      <td>1</td>\n",
       "    </tr>\n",
       "    <tr>\n",
       "      <th>5</th>\n",
       "      <td>56</td>\n",
       "      <td>1</td>\n",
       "      <td>1</td>\n",
       "    </tr>\n",
       "    <tr>\n",
       "      <th>6</th>\n",
       "      <td>55</td>\n",
       "      <td>0</td>\n",
       "      <td>0</td>\n",
       "    </tr>\n",
       "    <tr>\n",
       "      <th>7</th>\n",
       "      <td>60</td>\n",
       "      <td>0</td>\n",
       "      <td>1</td>\n",
       "    </tr>\n",
       "    <tr>\n",
       "      <th>8</th>\n",
       "      <td>62</td>\n",
       "      <td>1</td>\n",
       "      <td>1</td>\n",
       "    </tr>\n",
       "    <tr>\n",
       "      <th>9</th>\n",
       "      <td>61</td>\n",
       "      <td>1</td>\n",
       "      <td>1</td>\n",
       "    </tr>\n",
       "    <tr>\n",
       "      <th>10</th>\n",
       "      <td>18</td>\n",
       "      <td>1</td>\n",
       "      <td>0</td>\n",
       "    </tr>\n",
       "    <tr>\n",
       "      <th>11</th>\n",
       "      <td>28</td>\n",
       "      <td>1</td>\n",
       "      <td>0</td>\n",
       "    </tr>\n",
       "    <tr>\n",
       "      <th>12</th>\n",
       "      <td>27</td>\n",
       "      <td>0</td>\n",
       "      <td>0</td>\n",
       "    </tr>\n",
       "    <tr>\n",
       "      <th>13</th>\n",
       "      <td>29</td>\n",
       "      <td>0</td>\n",
       "      <td>0</td>\n",
       "    </tr>\n",
       "    <tr>\n",
       "      <th>14</th>\n",
       "      <td>49</td>\n",
       "      <td>1</td>\n",
       "      <td>1</td>\n",
       "    </tr>\n",
       "    <tr>\n",
       "      <th>15</th>\n",
       "      <td>55</td>\n",
       "      <td>1</td>\n",
       "      <td>1</td>\n",
       "    </tr>\n",
       "    <tr>\n",
       "      <th>16</th>\n",
       "      <td>25</td>\n",
       "      <td>0</td>\n",
       "      <td>1</td>\n",
       "    </tr>\n",
       "    <tr>\n",
       "      <th>17</th>\n",
       "      <td>58</td>\n",
       "      <td>1</td>\n",
       "      <td>1</td>\n",
       "    </tr>\n",
       "    <tr>\n",
       "      <th>18</th>\n",
       "      <td>19</td>\n",
       "      <td>0</td>\n",
       "      <td>0</td>\n",
       "    </tr>\n",
       "    <tr>\n",
       "      <th>19</th>\n",
       "      <td>18</td>\n",
       "      <td>1</td>\n",
       "      <td>0</td>\n",
       "    </tr>\n",
       "    <tr>\n",
       "      <th>20</th>\n",
       "      <td>21</td>\n",
       "      <td>1</td>\n",
       "      <td>0</td>\n",
       "    </tr>\n",
       "    <tr>\n",
       "      <th>21</th>\n",
       "      <td>26</td>\n",
       "      <td>0</td>\n",
       "      <td>0</td>\n",
       "    </tr>\n",
       "    <tr>\n",
       "      <th>22</th>\n",
       "      <td>40</td>\n",
       "      <td>1</td>\n",
       "      <td>1</td>\n",
       "    </tr>\n",
       "    <tr>\n",
       "      <th>23</th>\n",
       "      <td>45</td>\n",
       "      <td>1</td>\n",
       "      <td>1</td>\n",
       "    </tr>\n",
       "    <tr>\n",
       "      <th>24</th>\n",
       "      <td>50</td>\n",
       "      <td>1</td>\n",
       "      <td>1</td>\n",
       "    </tr>\n",
       "    <tr>\n",
       "      <th>25</th>\n",
       "      <td>54</td>\n",
       "      <td>1</td>\n",
       "      <td>1</td>\n",
       "    </tr>\n",
       "    <tr>\n",
       "      <th>26</th>\n",
       "      <td>23</td>\n",
       "      <td>1</td>\n",
       "      <td>0</td>\n",
       "    </tr>\n",
       "    <tr>\n",
       "      <th>27</th>\n",
       "      <td>46</td>\n",
       "      <td>1</td>\n",
       "      <td>0</td>\n",
       "    </tr>\n",
       "  </tbody>\n",
       "</table>\n",
       "</div>"
      ],
      "text/plain": [
       "    age  affordibility  bought_insurance\n",
       "0    22              1                 0\n",
       "1    25              0                 0\n",
       "2    47              1                 1\n",
       "3    52              0                 0\n",
       "4    46              1                 1\n",
       "5    56              1                 1\n",
       "6    55              0                 0\n",
       "7    60              0                 1\n",
       "8    62              1                 1\n",
       "9    61              1                 1\n",
       "10   18              1                 0\n",
       "11   28              1                 0\n",
       "12   27              0                 0\n",
       "13   29              0                 0\n",
       "14   49              1                 1\n",
       "15   55              1                 1\n",
       "16   25              0                 1\n",
       "17   58              1                 1\n",
       "18   19              0                 0\n",
       "19   18              1                 0\n",
       "20   21              1                 0\n",
       "21   26              0                 0\n",
       "22   40              1                 1\n",
       "23   45              1                 1\n",
       "24   50              1                 1\n",
       "25   54              1                 1\n",
       "26   23              1                 0\n",
       "27   46              1                 0"
      ]
     },
     "execution_count": 3,
     "metadata": {},
     "output_type": "execute_result"
    }
   ],
   "source": [
    "df"
   ]
  },
  {
   "cell_type": "markdown",
   "id": "10fe5ba1",
   "metadata": {},
   "source": [
    " __Splitting data using sklearn just for cross checking. Actual manual splitting is done in the next cells__"
   ]
  },
  {
   "cell_type": "raw",
   "id": "fbcaf19d",
   "metadata": {},
   "source": [
    "from sklearn.model_selection import train_test_split\n",
    "x_train,X_test,y_train,y_test = train_test_split(df[[\"age\",\"affordibility\"]],df.bought_insurance,test_size = 0.2,random_state= 25)"
   ]
  },
  {
   "cell_type": "raw",
   "id": "236f1b4f",
   "metadata": {
    "collapsed": true
   },
   "source": [
    "x_train"
   ]
  },
  {
   "cell_type": "raw",
   "id": "57226951",
   "metadata": {},
   "source": [
    "X_test"
   ]
  },
  {
   "cell_type": "raw",
   "id": "9d7c2157",
   "metadata": {
    "scrolled": true
   },
   "source": [
    "y_train"
   ]
  },
  {
   "cell_type": "raw",
   "id": "5999b61c",
   "metadata": {},
   "source": [
    "y_test"
   ]
  },
  {
   "cell_type": "raw",
   "id": "6a50d5b9",
   "metadata": {},
   "source": [
    "x_train.info()  #'pandas.core.frame.DataFrame'>\n",
    "X_test.info()   #'pandas.core.frame.DataFrame'>\n",
    "y_train.info()  #<class 'pandas.core.series.Series'>\n",
    "y_test.info()   #<class 'pandas.core.series.Series'>"
   ]
  },
  {
   "cell_type": "markdown",
   "id": "1b36db9a",
   "metadata": {},
   "source": [
    "__Manually Splitting data__\n",
    "\n",
    "    Points to remember while splitting data:\n",
    "    1. Train set can be a pandas dataset\n",
    "    2. Test set requires the data in the form of pandas series. \n",
    "    \n",
    "    custom_model.fit(x_train_scaled, y_train, epochs = 8000, loss_threshold = 0.4631) requires y_train in pandas series.Make  sure that function returns the values in the correct format."
   ]
  },
  {
   "cell_type": "code",
   "execution_count": 4,
   "id": "d9f5da67",
   "metadata": {},
   "outputs": [],
   "source": [
    "def split_train_test(data, test_ratio):                      # setting i/p value for func\n",
    "    np.random.seed(25)                                       # deterministic random generation using 42 - 101010 (expld above)\n",
    "    shuffled = np.random.permutation(len(data))              # creating shuffled index for total rows of data\n",
    "    test_set_size= int (len(data)*test_ratio)                # setting size of test data \n",
    "    test_indices= shuffled[:test_set_size]                   # spliting test indices from shuffled indices\n",
    "    train_indices = shuffled[test_set_size:]                 # splitting train indices from shuffled indices\n",
    "    \n",
    "    shape = data.shape                                       # Returns tuple (100,3)--> (Rows, columns)\n",
    "    column_size = shape[1]                                   # Taking 1st index value from returned tuple\n",
    "    y_index= column_size-1                                   # Generating the column index \n",
    "\n",
    "#     return data.iloc[Rowstart:Rowend,columnstart:columnend] # Signature code\n",
    "#     return data.iloc[train_indices,0:2], data.iloc[test_indices,0:2], data.iloc[train_indices,2:3], data.iloc[test_indices,2:3]\n",
    "    \n",
    "    x_train = data.iloc[train_indices,0:y_index]      #Creating pandas dataframe from shuffled indices\n",
    "    X_test  = data.iloc[test_indices,0:y_index]       #Creating pandas dataframe from shuffled indices\n",
    "    \n",
    "    '''Why Pandas series is required for y_train,y_test?\n",
    "    Fit function accepts y_train as a pandas series only. But why ? \n",
    "    Inside fit() --> gradient descent() --> w1d= (1/n)*sum(x1*(y_predicted- y_true))\n",
    "    --> y_true cannot accept pandas dataframe for calculations.Matrix subtraction requires a 1d array.(y_predicted- y_true)\n",
    "    Here y_true is derived from y_train which needs to be in a form of series/numbers and not a dataframe.\n",
    "    \n",
    "    Here Initially we need to create a pandas dataframe using iloc from the shuffled indexes in the rows.\n",
    "    iloc(accepts index) loc(accepts actual string/number)\n",
    "    1. iloc[rows_start : rows_end , column_start : column_end]--> returns dataframe\n",
    "    2. iloc[rows_start : rows_end , [column_indices]]--> returns dataframe\n",
    "    3. iloc[[rows_indices], column_start : column_end]--> returns dataframe\n",
    "    \n",
    "    4. iloc[rows_start : rows_end,single_column_index] --> Returns pandas series.\n",
    "    5. iloc[single_column_index,column_start : column_end] --> Returns pandas series.\n",
    "    \n",
    "    Update 1: Commented this as I found better option for this solution.\n",
    "    As we need shuffled index from rows, and index from columns, is the 4th case explained above which is not possible. \n",
    "    So initially we converted to pandas dataframe with shuffled indices for rows, and all columns\n",
    "    Later converting it to pandas series by selecting the desired column from the newly created dataframe.\n",
    "    Update 2: Better method of converting dataframe to series using squeeze()\n",
    "    Update 3: 4 and 5 methods shown above returns series directly. No squeeze needed. \n",
    "    '''\n",
    "    \n",
    "#     y_set = data.iloc[[indices],[column_index]].squeeze()  #General layout Creating pandas series from shuffled indices\n",
    "\n",
    "#     y_train = data.iloc[train_indices.tolist(),[y_index]]           # Returns pandas dataframe(we require series)\n",
    "#     y_train = data.iloc[train_indices.tolist(),[y_index]].squeeze() # squeeze() converts dataframe to series \n",
    "    y_train = data.iloc[train_indices.tolist(),y_index]             # Using 4/5th option of iloc .\n",
    "#     y_train = data.iloc[train_indices,y_index:column_size]          #Creating pandas dataframe from shuffled indices\n",
    "#     y_train = y_train.iloc[:,0]                                     #Creating pandas series as an input for fit()\n",
    "\n",
    "#     y_test = data.iloc[test_indices.tolist(),[y_index]]               \n",
    "#     y_test = data.iloc[test_indices.tolist(),[y_index]].squeeze()\n",
    "    y_test = data.iloc[test_indices.tolist(),y_index]\n",
    "#     y_test  = data.iloc[test_indices,y_index:column_size]\n",
    "#     y_test = y_test.iloc[:,0]\n",
    "\n",
    "    return x_train, X_test, y_train, y_test\n",
    "\n",
    "#     Note : Keep X in pandas dataframe and y in pandas series.Use the below lines for testing. \n",
    "#     return x_train\n",
    "#     return X_test\n",
    "#     return y_train\n",
    "#     return y_test"
   ]
  },
  {
   "cell_type": "code",
   "execution_count": 5,
   "id": "1d37a3d6",
   "metadata": {},
   "outputs": [],
   "source": [
    "x_train, X_test, y_train, y_test  = split_train_test(df, 0.22) # Test Ratio adjusted to 0.22 to match the sklearns output after splitting."
   ]
  },
  {
   "cell_type": "raw",
   "id": "1e61da77",
   "metadata": {},
   "source": [
    "function_output = split_train_test(df, 0.22) # Use this while testing lines for above function. \n",
    "# function_output\n",
    "type(function_output)"
   ]
  },
  {
   "cell_type": "raw",
   "id": "5eeb1f05",
   "metadata": {},
   "source": [
    "x_train_set, X_test_set, y_train_set, y_test_set = split_train_test(df, 0.22) # Use this line to verify with sklearns output"
   ]
  },
  {
   "cell_type": "raw",
   "id": "2142b016",
   "metadata": {},
   "source": [
    "x_train_set"
   ]
  },
  {
   "cell_type": "raw",
   "id": "a08517b7",
   "metadata": {},
   "source": [
    "X_test_set"
   ]
  },
  {
   "cell_type": "raw",
   "id": "aed78c9b",
   "metadata": {},
   "source": [
    "y_train_set"
   ]
  },
  {
   "cell_type": "raw",
   "id": "587ea303",
   "metadata": {},
   "source": [
    "y_test_set"
   ]
  },
  {
   "cell_type": "raw",
   "id": "5ac3ba94",
   "metadata": {},
   "source": [
    "# y_train= df.iloc[:,0] # Just for info\n",
    "type(y_train)"
   ]
  },
  {
   "cell_type": "raw",
   "id": "9907915a",
   "metadata": {},
   "source": [
    "# y_test = y_test[0]  # Just for info\n",
    "type(y_test)"
   ]
  },
  {
   "cell_type": "raw",
   "id": "8d4b9d0f",
   "metadata": {},
   "source": [
    "x_train.info()  #'pandas.core.frame.DataFrame'>\n",
    "X_test.info()   #'pandas.core.frame.DataFrame'>\n",
    "y_train.info()  #<class 'pandas.core.series.Series'>\n",
    "y_test.info()   #<class 'pandas.core.series.Series'>"
   ]
  },
  {
   "cell_type": "code",
   "execution_count": 6,
   "id": "f20a8d8d",
   "metadata": {},
   "outputs": [
    {
     "data": {
      "text/plain": [
       "pandas.core.frame.DataFrame"
      ]
     },
     "execution_count": 6,
     "metadata": {},
     "output_type": "execute_result"
    }
   ],
   "source": [
    "type(x_train)  "
   ]
  },
  {
   "cell_type": "code",
   "execution_count": 7,
   "id": "12c4fcf0",
   "metadata": {},
   "outputs": [
    {
     "data": {
      "text/plain": [
       "pandas.core.frame.DataFrame"
      ]
     },
     "execution_count": 7,
     "metadata": {},
     "output_type": "execute_result"
    }
   ],
   "source": [
    "type(X_test) "
   ]
  },
  {
   "cell_type": "code",
   "execution_count": 8,
   "id": "98820d58",
   "metadata": {},
   "outputs": [
    {
     "data": {
      "text/plain": [
       "pandas.core.series.Series"
      ]
     },
     "execution_count": 8,
     "metadata": {},
     "output_type": "execute_result"
    }
   ],
   "source": [
    "type(y_train)"
   ]
  },
  {
   "cell_type": "code",
   "execution_count": 9,
   "id": "7407dab6",
   "metadata": {},
   "outputs": [
    {
     "data": {
      "text/plain": [
       "pandas.core.series.Series"
      ]
     },
     "execution_count": 9,
     "metadata": {},
     "output_type": "execute_result"
    }
   ],
   "source": [
    "type(y_test)"
   ]
  },
  {
   "cell_type": "markdown",
   "id": "794f4fb4",
   "metadata": {},
   "source": [
    "__Scaling Features__\n",
    "Age and affordability on same scale"
   ]
  },
  {
   "cell_type": "code",
   "execution_count": 10,
   "id": "48efaa13",
   "metadata": {},
   "outputs": [],
   "source": [
    "x_train_scaled = x_train.copy()\n",
    "x_train_scaled['age']= x_train_scaled['age']/100\n",
    "X_test_scaled = X_test.copy()\n",
    "X_test_scaled['age']= X_test_scaled['age']/100"
   ]
  },
  {
   "cell_type": "raw",
   "id": "08260362",
   "metadata": {},
   "source": [
    "x_array= x_train_scaled.iloc[:,0] # Accessing the 0th column and converting to numpy array.\n",
    "x_array = x_array.to_numpy()\n",
    "x_array"
   ]
  },
  {
   "cell_type": "raw",
   "id": "d1ac7d47",
   "metadata": {},
   "source": [
    "custom_model = myNN()\n",
    "custom_model.fit(x_train_scaled, y_train, epochs = 8000, loss_threshold = 0.4631)\n",
    "custom_model.predict (X_test_scaled)"
   ]
  },
  {
   "cell_type": "code",
   "execution_count": 11,
   "id": "107f31db",
   "metadata": {},
   "outputs": [
    {
     "data": {
      "text/html": [
       "<div>\n",
       "<style scoped>\n",
       "    .dataframe tbody tr th:only-of-type {\n",
       "        vertical-align: middle;\n",
       "    }\n",
       "\n",
       "    .dataframe tbody tr th {\n",
       "        vertical-align: top;\n",
       "    }\n",
       "\n",
       "    .dataframe thead th {\n",
       "        text-align: right;\n",
       "    }\n",
       "</style>\n",
       "<table border=\"1\" class=\"dataframe\">\n",
       "  <thead>\n",
       "    <tr style=\"text-align: right;\">\n",
       "      <th></th>\n",
       "      <th>age</th>\n",
       "      <th>affordibility</th>\n",
       "    </tr>\n",
       "  </thead>\n",
       "  <tbody>\n",
       "    <tr>\n",
       "      <th>0</th>\n",
       "      <td>0.22</td>\n",
       "      <td>1</td>\n",
       "    </tr>\n",
       "    <tr>\n",
       "      <th>13</th>\n",
       "      <td>0.29</td>\n",
       "      <td>0</td>\n",
       "    </tr>\n",
       "    <tr>\n",
       "      <th>6</th>\n",
       "      <td>0.55</td>\n",
       "      <td>0</td>\n",
       "    </tr>\n",
       "    <tr>\n",
       "      <th>17</th>\n",
       "      <td>0.58</td>\n",
       "      <td>1</td>\n",
       "    </tr>\n",
       "    <tr>\n",
       "      <th>24</th>\n",
       "      <td>0.50</td>\n",
       "      <td>1</td>\n",
       "    </tr>\n",
       "    <tr>\n",
       "      <th>19</th>\n",
       "      <td>0.18</td>\n",
       "      <td>1</td>\n",
       "    </tr>\n",
       "    <tr>\n",
       "      <th>25</th>\n",
       "      <td>0.54</td>\n",
       "      <td>1</td>\n",
       "    </tr>\n",
       "    <tr>\n",
       "      <th>16</th>\n",
       "      <td>0.25</td>\n",
       "      <td>0</td>\n",
       "    </tr>\n",
       "    <tr>\n",
       "      <th>20</th>\n",
       "      <td>0.21</td>\n",
       "      <td>1</td>\n",
       "    </tr>\n",
       "    <tr>\n",
       "      <th>3</th>\n",
       "      <td>0.52</td>\n",
       "      <td>0</td>\n",
       "    </tr>\n",
       "    <tr>\n",
       "      <th>7</th>\n",
       "      <td>0.60</td>\n",
       "      <td>0</td>\n",
       "    </tr>\n",
       "    <tr>\n",
       "      <th>1</th>\n",
       "      <td>0.25</td>\n",
       "      <td>0</td>\n",
       "    </tr>\n",
       "    <tr>\n",
       "      <th>5</th>\n",
       "      <td>0.56</td>\n",
       "      <td>1</td>\n",
       "    </tr>\n",
       "    <tr>\n",
       "      <th>27</th>\n",
       "      <td>0.46</td>\n",
       "      <td>1</td>\n",
       "    </tr>\n",
       "    <tr>\n",
       "      <th>8</th>\n",
       "      <td>0.62</td>\n",
       "      <td>1</td>\n",
       "    </tr>\n",
       "    <tr>\n",
       "      <th>18</th>\n",
       "      <td>0.19</td>\n",
       "      <td>0</td>\n",
       "    </tr>\n",
       "    <tr>\n",
       "      <th>12</th>\n",
       "      <td>0.27</td>\n",
       "      <td>0</td>\n",
       "    </tr>\n",
       "    <tr>\n",
       "      <th>23</th>\n",
       "      <td>0.45</td>\n",
       "      <td>1</td>\n",
       "    </tr>\n",
       "    <tr>\n",
       "      <th>22</th>\n",
       "      <td>0.40</td>\n",
       "      <td>1</td>\n",
       "    </tr>\n",
       "    <tr>\n",
       "      <th>15</th>\n",
       "      <td>0.55</td>\n",
       "      <td>1</td>\n",
       "    </tr>\n",
       "    <tr>\n",
       "      <th>26</th>\n",
       "      <td>0.23</td>\n",
       "      <td>1</td>\n",
       "    </tr>\n",
       "    <tr>\n",
       "      <th>4</th>\n",
       "      <td>0.46</td>\n",
       "      <td>1</td>\n",
       "    </tr>\n",
       "  </tbody>\n",
       "</table>\n",
       "</div>"
      ],
      "text/plain": [
       "     age  affordibility\n",
       "0   0.22              1\n",
       "13  0.29              0\n",
       "6   0.55              0\n",
       "17  0.58              1\n",
       "24  0.50              1\n",
       "19  0.18              1\n",
       "25  0.54              1\n",
       "16  0.25              0\n",
       "20  0.21              1\n",
       "3   0.52              0\n",
       "7   0.60              0\n",
       "1   0.25              0\n",
       "5   0.56              1\n",
       "27  0.46              1\n",
       "8   0.62              1\n",
       "18  0.19              0\n",
       "12  0.27              0\n",
       "23  0.45              1\n",
       "22  0.40              1\n",
       "15  0.55              1\n",
       "26  0.23              1\n",
       "4   0.46              1"
      ]
     },
     "execution_count": 11,
     "metadata": {},
     "output_type": "execute_result"
    }
   ],
   "source": [
    "x_train_scaled"
   ]
  },
  {
   "cell_type": "code",
   "execution_count": 12,
   "id": "0e3ec72b",
   "metadata": {},
   "outputs": [],
   "source": [
    "class myNN:\n",
    "    def __init__(self):\n",
    "        self.w1= 1      #Defining the initial weights\n",
    "        self.w2= 1      #Defining the initial weights\n",
    "        self.bias = 0   #Defining the initial bias\n",
    "        \n",
    "    def sigmoid_python(self,X): # Made with precision to take numpy array as an input.\n",
    "        return (1/ (1 + np.exp(-X)))\n",
    "    \n",
    "    def log_loss(self,y_true, y_predicted): # Made with precision to take numpy array as an input.Refer insurance predictor NB for more details.\n",
    "        epsilon = 1e-15\n",
    "        y_predicted_new = [max(i,epsilon) for i in y_predicted ]\n",
    "        y_predicted_new = [min (i, 1-epsilon) for i in y_predicted_new]\n",
    "        y_predicted_new = np.array(y_predicted_new) \n",
    "        return -np.mean(y_true* np.log(y_predicted_new)+ (1-y_true)*np.log(1-y_predicted_new))\n",
    "    \n",
    "    '''Passing the x_train_scaled inside the fit function as x and then fine tuning it for the x1 and x2 values of \n",
    "    gradient descent function. In tensorflow/keras fit function we cannot bypass such external parameters. Here we are also \n",
    "    passing the gradient_descent function inside our fit function to get x1,x2,bias as output, which will further be used\n",
    "    in the predict function.We could have implemented the complete code of gradient_descent function in fit function directly.\n",
    "    But since we are bypassing x1 and x2 as x['age'],x['affordibility'], hence writting a separate function for that.'''\n",
    "    \n",
    "    def fit(self, x,y,epochs,loss_threshold):   # Returns tuple (x1,x2,bias) to pass in predict function.\n",
    "        self.w1,self.w2,self.bias= self.gradient_descent(x['age'],x['affordibility'],y,epochs,loss_threshold)\n",
    "        return self.w1,self.w2,self.bias   # To print w1,w2,w3 passed from gradient_descent function.\n",
    "    \n",
    "    def predict(self,x):\n",
    "        weighted_sum = self.w1*x['age'] + self.w2*x['affordibility']  + self.bias\n",
    "        return self.sigmoid_python(weighted_sum)\n",
    "        \n",
    "    def gradient_descent(self,x1,x2,y_true,epochs,loss_threshold): #Gradient descent function for logistic regression.\n",
    "#         w1=w2=1 #Taking 1 . Can also take 0 # Initially took these values. Later took it from self.w\n",
    "#         bias = 0\n",
    "        rate = 0.5 #usually 0.01\n",
    "        n = len(x1)\n",
    "    \n",
    "        for i in range(epochs):\n",
    "            weighted_sum = self.w1*x1 + self.w2*x2 +self.bias     # finding weighted sum\n",
    "            y_predicted = self.sigmoid_python(weighted_sum)  # substituting in sigmoid\n",
    "            loss = self.log_loss(y_true, y_predicted)        # calculating the loss\n",
    "\n",
    "            w1d= (1/n)*sum(x1*(y_predicted- y_true))   ## Simplest way to find partial derivative\n",
    "            w2d= (1/n)*sum(x2*(y_predicted- y_true))   ## Simplest way to find partial derivative \n",
    "            bd= np.mean(y_predicted- y_true) \n",
    "\n",
    "    #         w1d = (1/n)*np.dot(np.transpose(x1),(y_predicted- y_true))  ## Just another way to find the partial derivative using numpy\n",
    "    #         w2d = (1/n)*np.dot(np.transpose(x2),(y_predicted- y_true))  ## Just another way to find the partial derivative using numpy\n",
    "\n",
    "    #         w1d = (1/n)*(y_predicted- y_true).dot(x1.transpose())  ## And one moreway to find the partial derivative using numpy.\n",
    "    #         w2d = (1/n)*(y_predicted- y_true).dot(x2.transpose())  ## And one moreway to find the partial derivative using numpy.\n",
    "\n",
    "            self.w1 = self.w1 - rate*w1d  # Updating weights using partial derivative to minimise the loss\n",
    "            self.w2 = self.w2 - rate*w2d  # Updating weights using partial derivative to minimise the loss\n",
    "            self.bias = self.bias - rate*bd # Updating bias using partial derivative to minimise the loss\n",
    "        \n",
    "            if i%50 == 0: # To print the results after every 50 iterations/epochs.Can also remove this statement completely.\n",
    "                print (f\"epoch : {i}, w1: {self.w1}, w2: {self.w2}, bias: {self.bias}, loss: {loss}\")\n",
    "                \n",
    "            if loss<=loss_threshold: # Loss can be specified as a threshold. It will break the specified iterations if specified loss is reached.\n",
    "                print (f\"epoch : {i}, w1: {self.w1}, w2: {self.w2}, bias: {self.bias}, loss: {loss}\") #Threshold satisfied at 364 iteration. As we have set the iterations to print at intervals of 50, It breaks at 350.So 364th iteration is not printed. To avoid that we print the epoch line right after we get the threshold loss at line 364.\n",
    "                break\n",
    "                \n",
    "    #         print(y_predicted) \n",
    "\n",
    "        return self.w1,self.w2,self.bias # To pass in fit function.\n"
   ]
  },
  {
   "cell_type": "markdown",
   "id": "d134b63b",
   "metadata": {},
   "source": [
    "__Note : Fit function accepts test data as a pandas series only. Make sure to convert pandas Dataframe to pandas series before supplying.__ Reason explained above in train_test_split()"
   ]
  },
  {
   "cell_type": "code",
   "execution_count": 13,
   "id": "131222d5",
   "metadata": {},
   "outputs": [
    {
     "name": "stdout",
     "output_type": "stream",
     "text": [
      "epoch : 0, w1: 0.974907633470177, w2: 0.948348125394529, bias: -0.11341867736368583, loss: 0.7113403233723417\n",
      "epoch : 50, w1: 1.503319554173139, w2: 1.108384790367645, bias: -1.2319047301235464, loss: 0.5675865113475955\n",
      "epoch : 100, w1: 2.200713131760032, w2: 1.2941584023238903, bias: -1.6607009122062801, loss: 0.5390680417774752\n",
      "epoch : 150, w1: 2.8495727769689085, w2: 1.3696895491572747, bias: -1.986105845859897, loss: 0.5176462164249293\n",
      "epoch : 200, w1: 3.4430169708818044, w2: 1.4042218624465033, bias: -2.2571369883752728, loss: 0.5005011269691374\n",
      "epoch : 250, w1: 3.9824504946495773, w2: 1.423912732932123, bias: -2.494377365971801, loss: 0.48654089537617096\n",
      "epoch : 300, w1: 4.4721795220959155, w2: 1.438787986553552, bias: -2.7073878119223735, loss: 0.4750814640632793\n",
      "epoch : 350, w1: 4.917245868007634, w2: 1.4525660781176122, bias: -2.901176333556766, loss: 0.46561475306999006\n",
      "epoch : 366, w1: 5.051047623653049, w2: 1.4569794548473887, bias: -2.9596534546250037, loss: 0.46293944095888917\n"
     ]
    },
    {
     "data": {
      "text/plain": [
       "(5.051047623653049, 1.4569794548473887, -2.9596534546250037)"
      ]
     },
     "execution_count": 13,
     "metadata": {},
     "output_type": "execute_result"
    }
   ],
   "source": [
    "custom_model = myNN()\n",
    "custom_model.fit(x_train_scaled, y_train, epochs = 8000, loss_threshold = 0.4631)"
   ]
  },
  {
   "cell_type": "code",
   "execution_count": 14,
   "id": "1472edb0",
   "metadata": {},
   "outputs": [
    {
     "data": {
      "text/plain": [
       "2     0.705020\n",
       "10    0.355836\n",
       "21    0.161599\n",
       "11    0.477919\n",
       "14    0.725586\n",
       "9     0.828987\n",
       "dtype: float64"
      ]
     },
     "execution_count": 14,
     "metadata": {},
     "output_type": "execute_result"
    }
   ],
   "source": [
    "custom_model.predict (X_test_scaled)"
   ]
  },
  {
   "cell_type": "raw",
   "id": "377be3d2",
   "metadata": {},
   "source": [
    "Tensorflow output (model.predict) : \n",
    "array([[0.70548487],\n",
    "       [0.35569552],\n",
    "       [0.16827849],\n",
    "       [0.47801173],\n",
    "       [0.7260697 ],\n",
    "       [0.82949835]], dtype=float32)\n",
    "       \n",
    "Tensorflow output (coef, intercepts = model.get_weights())\n",
    "(array([[5.060867 ],\n",
    "        [1.4086502]], dtype=float32),\n",
    " array([-2.9137027], dtype=float32))"
   ]
  }
 ],
 "metadata": {
  "kernelspec": {
   "display_name": "Python 3 (ipykernel)",
   "language": "python",
   "name": "python3"
  },
  "language_info": {
   "codemirror_mode": {
    "name": "ipython",
    "version": 3
   },
   "file_extension": ".py",
   "mimetype": "text/x-python",
   "name": "python",
   "nbconvert_exporter": "python",
   "pygments_lexer": "ipython3",
   "version": "3.9.12"
  }
 },
 "nbformat": 4,
 "nbformat_minor": 5
}
